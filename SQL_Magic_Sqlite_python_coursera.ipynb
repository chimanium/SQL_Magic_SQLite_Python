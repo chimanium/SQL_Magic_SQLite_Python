{
  "nbformat": 4,
  "nbformat_minor": 0,
  "metadata": {
    "colab": {
      "provenance": []
    },
    "kernelspec": {
      "name": "python3",
      "display_name": "Python 3"
    },
    "language_info": {
      "name": "python"
    }
  },
  "cells": [
    {
      "cell_type": "code",
      "execution_count": 2,
      "metadata": {
        "colab": {
          "base_uri": "https://localhost:8080/"
        },
        "id": "nFt-kMYF8FDc",
        "outputId": "da7d33ec-fa97-4541-bd2d-e157734b637d"
      },
      "outputs": [
        {
          "output_type": "stream",
          "name": "stdout",
          "text": [
            "Requirement already satisfied: ipython-sql in /usr/local/lib/python3.10/dist-packages (0.5.0)\n",
            "Requirement already satisfied: prettytable in /usr/local/lib/python3.10/dist-packages (from ipython-sql) (3.11.0)\n",
            "Requirement already satisfied: ipython in /usr/local/lib/python3.10/dist-packages (from ipython-sql) (7.34.0)\n",
            "Requirement already satisfied: sqlalchemy>=2.0 in /usr/local/lib/python3.10/dist-packages (from ipython-sql) (2.0.36)\n",
            "Requirement already satisfied: sqlparse in /usr/local/lib/python3.10/dist-packages (from ipython-sql) (0.5.1)\n",
            "Requirement already satisfied: six in /usr/local/lib/python3.10/dist-packages (from ipython-sql) (1.16.0)\n",
            "Requirement already satisfied: ipython-genutils in /usr/local/lib/python3.10/dist-packages (from ipython-sql) (0.2.0)\n",
            "Requirement already satisfied: typing-extensions>=4.6.0 in /usr/local/lib/python3.10/dist-packages (from sqlalchemy>=2.0->ipython-sql) (4.12.2)\n",
            "Requirement already satisfied: greenlet!=0.4.17 in /usr/local/lib/python3.10/dist-packages (from sqlalchemy>=2.0->ipython-sql) (3.1.1)\n",
            "Requirement already satisfied: setuptools>=18.5 in /usr/local/lib/python3.10/dist-packages (from ipython->ipython-sql) (75.1.0)\n",
            "Collecting jedi>=0.16 (from ipython->ipython-sql)\n",
            "  Downloading jedi-0.19.1-py2.py3-none-any.whl.metadata (22 kB)\n",
            "Requirement already satisfied: decorator in /usr/local/lib/python3.10/dist-packages (from ipython->ipython-sql) (4.4.2)\n",
            "Requirement already satisfied: pickleshare in /usr/local/lib/python3.10/dist-packages (from ipython->ipython-sql) (0.7.5)\n",
            "Requirement already satisfied: traitlets>=4.2 in /usr/local/lib/python3.10/dist-packages (from ipython->ipython-sql) (5.7.1)\n",
            "Requirement already satisfied: prompt-toolkit!=3.0.0,!=3.0.1,<3.1.0,>=2.0.0 in /usr/local/lib/python3.10/dist-packages (from ipython->ipython-sql) (3.0.48)\n",
            "Requirement already satisfied: pygments in /usr/local/lib/python3.10/dist-packages (from ipython->ipython-sql) (2.18.0)\n",
            "Requirement already satisfied: backcall in /usr/local/lib/python3.10/dist-packages (from ipython->ipython-sql) (0.2.0)\n",
            "Requirement already satisfied: matplotlib-inline in /usr/local/lib/python3.10/dist-packages (from ipython->ipython-sql) (0.1.7)\n",
            "Requirement already satisfied: pexpect>4.3 in /usr/local/lib/python3.10/dist-packages (from ipython->ipython-sql) (4.9.0)\n",
            "Requirement already satisfied: wcwidth in /usr/local/lib/python3.10/dist-packages (from prettytable->ipython-sql) (0.2.13)\n",
            "Requirement already satisfied: parso<0.9.0,>=0.8.3 in /usr/local/lib/python3.10/dist-packages (from jedi>=0.16->ipython->ipython-sql) (0.8.4)\n",
            "Requirement already satisfied: ptyprocess>=0.5 in /usr/local/lib/python3.10/dist-packages (from pexpect>4.3->ipython->ipython-sql) (0.7.0)\n",
            "Downloading jedi-0.19.1-py2.py3-none-any.whl (1.6 MB)\n",
            "\u001b[2K   \u001b[90m━━━━━━━━━━━━━━━━━━━━━━━━━━━━━━━━━━━━━━━━\u001b[0m \u001b[32m1.6/1.6 MB\u001b[0m \u001b[31m27.7 MB/s\u001b[0m eta \u001b[36m0:00:00\u001b[0m\n",
            "\u001b[?25hInstalling collected packages: jedi\n",
            "Successfully installed jedi-0.19.1\n"
          ]
        }
      ],
      "source": [
        "%pip install ipython-sql\n",
        "%load_ext sql\n",
        "\n",
        "import csv, sqlite3\n",
        "\n",
        "#Creating a db with SQLITE3\n",
        "\n",
        "con = sqlite3.connect('SQLiteMagic.db')\n",
        "cur = con.cursor()\n",
        "\n",
        "%sql sqlite:///SQLiteMagic.db\n",
        "\n",
        "\n"
      ]
    },
    {
      "cell_type": "code",
      "source": [
        "%%sql\n",
        "\n",
        "CREATE TABLE INTERNATIONAL_STUDENTS_TEST_SCORES(\n",
        "    COUNTRY VARCHAR(50),\n",
        "    First_name VARCHAR(50),\n",
        "    Last_name VARCHAR(50),\n",
        "    Test_Score INT\n",
        ");\n",
        "\n",
        "INSERT INTO INTERNATIONAL_STUDENTS_TEST_SCORES(COUNTRY, First_name, Last_name, Test_Score)\n",
        "VALUES\n",
        "('United States', 'Marshall', 'Bernadot', 54),\n",
        "('Ghana', 'Celinda', 'Malkin', 51),\n",
        "('Ukraine', 'Guillermo', 'Furze', 53),\n",
        "('Greece', 'Aharon', 'Tunnow', 48),\n",
        "('Russia', 'Bail', 'Goodwin', 46),\n",
        "('Poland', 'Cole', 'Winteringham', 49),\n",
        "('Sweden', 'Emlyn', 'Erricker', 55),\n",
        "('Russia', 'Cathee', 'Sivewright', 49),\n",
        "('China', 'Barny', 'Ingerson', 57),\n",
        "('Uganda', 'Sharla', 'Papaccio', 55),\n",
        "('China', 'Stella', 'Youens', 51),\n",
        "('Poland', 'Julio', 'Buesden', 48),\n",
        "('United States', 'Tiffie', 'Cosely', 58),\n",
        "('Poland', 'Auroora', 'Stiffell', 45),\n",
        "('China', 'Clarita', 'Huet', 52),\n",
        "('Poland', 'Shannon', 'Goulden', 45),\n",
        "('Philippines', 'Emylee', 'Privost', 50),\n",
        "('France', 'Madelina', 'Burk', 49),\n",
        "('China', 'Saunderson', 'Root', 58),\n",
        "('Indonesia', 'Bo', 'Waring', 55),\n",
        "('China', 'Hollis', 'Domotor', 45),\n",
        "('Russia', 'Robbie', 'Collip', 46),\n",
        "('Philippines', 'Davon', 'Donisi', 46),\n",
        "('China', 'Cristabel', 'Radeliffe', 48),\n",
        "('China', 'Wallis', 'Bartleet', 58),\n",
        "('Moldova', 'Arleen', 'Stailey', 38),\n",
        "('Ireland', 'Mendel', 'Grumble', 58),\n",
        "('China', 'Sallyann', 'Exley', 51),\n",
        "('Mexico', 'Kain', 'Swaite', 46),\n",
        "('Indonesia', 'Alonso', 'Bulteel', 45),\n",
        "('Armenia', 'Anatol', 'Tankus', 51),\n",
        "('Indonesia', 'Coralyn', 'Dawkins', 48),\n",
        "('China', 'Deanne', 'Edwinson', 45),\n",
        "('China', 'Georgiana', 'Epple', 51),\n",
        "('Portugal', 'Bartlet', 'Breese', 56),\n",
        "('Azerbaijan', 'Idalina', 'Lukash', 50),\n",
        "('France', 'Livvie', 'Flory', 54),\n",
        "('Malaysia', 'Nonie', 'Borit', 48),\n",
        "('Indonesia', 'Clio', 'Mugg', 47),\n",
        "('Brazil', 'Westley', 'Measor', 48),\n",
        "('Philippines', 'Katrinka', 'Sibbert', 51),\n",
        "('Poland', 'Valentia', 'Mounch', 50),\n",
        "('Norway', 'Sheilah', 'Hedditch', 53),\n",
        "('Papua New Guinea', 'Itch', 'Jubb', 50),\n",
        "('Latvia', 'Stesha', 'Garnson', 53),\n",
        "('Canada', 'Cristionna', 'Wadmore', 46),\n",
        "('China', 'Lianna', 'Gatward', 43),\n",
        "('Guatemala', 'Tanney', 'Vials', 48),\n",
        "('France', 'Alma', 'Zavittieri', 44),\n",
        "('China', 'Alvira', 'Tamas', 50),\n",
        "('United States', 'Shanon', 'Peres', 45),\n",
        "('Sweden', 'Maisey', 'Lynas', 53),\n",
        "('Indonesia', 'Kip', 'Hothersall', 46),\n",
        "('China', 'Cash', 'Landis', 48),\n",
        "('Panama', 'Kennith', 'Digance', 45),\n",
        "('China', 'Ulberto', 'Riggeard', 48),\n",
        "('Switzerland', 'Judy', 'Gilligan', 49),\n",
        "('Philippines', 'Tod', 'Trevaskus', 52),\n",
        "('Brazil', 'Herold', 'Heggs', 44),\n",
        "('Latvia', 'Verney', 'Note', 50),\n",
        "('Poland', 'Temp', 'Ribey', 50),\n",
        "('China', 'Conroy', 'Egdal', 48),\n",
        "('Japan', 'Gabie', 'Alessandone', 47),\n",
        "('Ukraine', 'Devlen', 'Chaperlin', 54),\n",
        "('France', 'Babbette', 'Turner', 51),\n",
        "('Czech Republic', 'Virgil', 'Scotney', 52),\n",
        "('Tajikistan', 'Zorina', 'Bedow', 49),\n",
        "('China', 'Aidan', 'Rudeyeard', 50),\n",
        "('Ireland', 'Saunder', 'MacLice', 48),\n",
        "('France', 'Waly', 'Brunstan', 53),\n",
        "('China', 'Gisele', 'Enns', 52),\n",
        "('Peru', 'Mina', 'Winchester', 48),\n",
        "('Japan', 'Torie', 'MacShirrie', 50),\n",
        "('Russia', 'Benjamen', 'Kenford', 51),\n",
        "('China', 'Etan', 'Burn', 53),\n",
        "('Russia', 'Merralee', 'Chaperlin', 38),\n",
        "('Indonesia', 'Lanny', 'Malam', 49),\n",
        "('Canada', 'Wilhelm', 'Deeprose', 54),\n",
        "('Czech Republic', 'Lari', 'Hillhouse', 48),\n",
        "('China', 'Ossie', 'Woodley', 52),\n",
        "('Macedonia', 'April', 'Tyer', 50),\n",
        "('Vietnam', 'Madelon', 'Dansey', 53),\n",
        "('Ukraine', 'Korella', 'McNamee', 52),\n",
        "('Jamaica', 'Linnea', 'Cannam', 43),\n",
        "('China', 'Mart', 'Coling', 52),\n",
        "('Indonesia', 'Marna', 'Causbey', 47),\n",
        "('China', 'Berni', 'Daintier', 55),\n",
        "('Poland', 'Cynthia', 'Hassell', 49),\n",
        "('Canada', 'Carma', 'Schule', 49),\n",
        "('Indonesia', 'Malia', 'Blight', 48),\n",
        "('China', 'Paulo', 'Seivertsen', 47),\n",
        "('Niger', 'Kaylee', 'Hearley', 54),\n",
        "('Japan', 'Maure', 'Jandak', 46),\n",
        "('Argentina', 'Foss', 'Feavers', 45),\n",
        "('Venezuela', 'Ron', 'Leggitt', 60),\n",
        "('Russia', 'Flint', 'Gokes', 40),\n",
        "('China', 'Linet', 'Conelly', 52),\n",
        "('Philippines', 'Nikolas', 'Birtwell', 57),\n",
        "('Australia', 'Eduard', 'Leipelt', 53);\n",
        "\n",
        "\n"
      ],
      "metadata": {
        "colab": {
          "base_uri": "https://localhost:8080/"
        },
        "id": "vKFe0GzO8JoO",
        "outputId": "df0065f9-b962-4eb2-8d71-bff236a86d67"
      },
      "execution_count": 3,
      "outputs": [
        {
          "output_type": "stream",
          "name": "stdout",
          "text": [
            " * sqlite:///SQLiteMagic.db\n",
            "Done.\n",
            "99 rows affected.\n"
          ]
        },
        {
          "output_type": "execute_result",
          "data": {
            "text/plain": [
              "[]"
            ]
          },
          "metadata": {},
          "execution_count": 3
        }
      ]
    },
    {
      "cell_type": "code",
      "source": [
        "%pip install ipython-sql prettytable\n",
        "\n",
        "#Pretty table helps display data in a formatted table\n",
        "import prettytable\n",
        "\n",
        "#Set Pretty table default\n",
        "prettytable.default = 'DEFAULT'\n",
        "\n"
      ],
      "metadata": {
        "colab": {
          "base_uri": "https://localhost:8080/"
        },
        "id": "xTdJO2AoBS6Z",
        "outputId": "5fc47358-1b7e-4ed4-f752-4df5617359bf"
      },
      "execution_count": 4,
      "outputs": [
        {
          "output_type": "stream",
          "name": "stdout",
          "text": [
            "Requirement already satisfied: ipython-sql in /usr/local/lib/python3.10/dist-packages (0.5.0)\n",
            "Requirement already satisfied: prettytable in /usr/local/lib/python3.10/dist-packages (3.11.0)\n",
            "Requirement already satisfied: ipython in /usr/local/lib/python3.10/dist-packages (from ipython-sql) (7.34.0)\n",
            "Requirement already satisfied: sqlalchemy>=2.0 in /usr/local/lib/python3.10/dist-packages (from ipython-sql) (2.0.36)\n",
            "Requirement already satisfied: sqlparse in /usr/local/lib/python3.10/dist-packages (from ipython-sql) (0.5.1)\n",
            "Requirement already satisfied: six in /usr/local/lib/python3.10/dist-packages (from ipython-sql) (1.16.0)\n",
            "Requirement already satisfied: ipython-genutils in /usr/local/lib/python3.10/dist-packages (from ipython-sql) (0.2.0)\n",
            "Requirement already satisfied: wcwidth in /usr/local/lib/python3.10/dist-packages (from prettytable) (0.2.13)\n",
            "Requirement already satisfied: typing-extensions>=4.6.0 in /usr/local/lib/python3.10/dist-packages (from sqlalchemy>=2.0->ipython-sql) (4.12.2)\n",
            "Requirement already satisfied: greenlet!=0.4.17 in /usr/local/lib/python3.10/dist-packages (from sqlalchemy>=2.0->ipython-sql) (3.1.1)\n",
            "Requirement already satisfied: setuptools>=18.5 in /usr/local/lib/python3.10/dist-packages (from ipython->ipython-sql) (75.1.0)\n",
            "Requirement already satisfied: jedi>=0.16 in /usr/local/lib/python3.10/dist-packages (from ipython->ipython-sql) (0.19.1)\n",
            "Requirement already satisfied: decorator in /usr/local/lib/python3.10/dist-packages (from ipython->ipython-sql) (4.4.2)\n",
            "Requirement already satisfied: pickleshare in /usr/local/lib/python3.10/dist-packages (from ipython->ipython-sql) (0.7.5)\n",
            "Requirement already satisfied: traitlets>=4.2 in /usr/local/lib/python3.10/dist-packages (from ipython->ipython-sql) (5.7.1)\n",
            "Requirement already satisfied: prompt-toolkit!=3.0.0,!=3.0.1,<3.1.0,>=2.0.0 in /usr/local/lib/python3.10/dist-packages (from ipython->ipython-sql) (3.0.48)\n",
            "Requirement already satisfied: pygments in /usr/local/lib/python3.10/dist-packages (from ipython->ipython-sql) (2.18.0)\n",
            "Requirement already satisfied: backcall in /usr/local/lib/python3.10/dist-packages (from ipython->ipython-sql) (0.2.0)\n",
            "Requirement already satisfied: matplotlib-inline in /usr/local/lib/python3.10/dist-packages (from ipython->ipython-sql) (0.1.7)\n",
            "Requirement already satisfied: pexpect>4.3 in /usr/local/lib/python3.10/dist-packages (from ipython->ipython-sql) (4.9.0)\n",
            "Requirement already satisfied: parso<0.9.0,>=0.8.3 in /usr/local/lib/python3.10/dist-packages (from jedi>=0.16->ipython->ipython-sql) (0.8.4)\n",
            "Requirement already satisfied: ptyprocess>=0.5 in /usr/local/lib/python3.10/dist-packages (from pexpect>4.3->ipython->ipython-sql) (0.7.0)\n"
          ]
        }
      ]
    },
    {
      "cell_type": "code",
      "source": [
        "country = 'Canada'\n",
        "\n",
        "%sql select * from INTERNATIONAL_STUDENTS_TEST_SCORES where country = :country"
      ],
      "metadata": {
        "colab": {
          "base_uri": "https://localhost:8080/",
          "height": 135
        },
        "id": "XNORT1L6BTrz",
        "outputId": "1aa85e33-4557-4689-c516-a7ddb1c6998d"
      },
      "execution_count": 6,
      "outputs": [
        {
          "output_type": "stream",
          "name": "stdout",
          "text": [
            " * sqlite:///SQLiteMagic.db\n",
            "Done.\n"
          ]
        },
        {
          "output_type": "execute_result",
          "data": {
            "text/plain": [
              "[('Canada', 'Cristionna', 'Wadmore', 46),\n",
              " ('Canada', 'Wilhelm', 'Deeprose', 54),\n",
              " ('Canada', 'Carma', 'Schule', 49)]"
            ],
            "text/html": [
              "<table>\n",
              "    <thead>\n",
              "        <tr>\n",
              "            <th>COUNTRY</th>\n",
              "            <th>First_name</th>\n",
              "            <th>Last_name</th>\n",
              "            <th>Test_Score</th>\n",
              "        </tr>\n",
              "    </thead>\n",
              "    <tbody>\n",
              "        <tr>\n",
              "            <td>Canada</td>\n",
              "            <td>Cristionna</td>\n",
              "            <td>Wadmore</td>\n",
              "            <td>46</td>\n",
              "        </tr>\n",
              "        <tr>\n",
              "            <td>Canada</td>\n",
              "            <td>Wilhelm</td>\n",
              "            <td>Deeprose</td>\n",
              "            <td>54</td>\n",
              "        </tr>\n",
              "        <tr>\n",
              "            <td>Canada</td>\n",
              "            <td>Carma</td>\n",
              "            <td>Schule</td>\n",
              "            <td>49</td>\n",
              "        </tr>\n",
              "    </tbody>\n",
              "</table>"
            ]
          },
          "metadata": {},
          "execution_count": 6
        }
      ]
    },
    {
      "cell_type": "code",
      "source": [
        "#Assigning queries to python variables\n",
        "\n",
        "test_distribution = %sql select Test_Score as 'test_scores', count(*) as 'Frequency' from INTERNATIONAL_STUDENTS_TEST_SCORES group by test_score;\n",
        "test_distribution"
      ],
      "metadata": {
        "colab": {
          "base_uri": "https://localhost:8080/",
          "height": 465
        },
        "id": "BmzUnrPrBapq",
        "outputId": "d9d89ac3-3f54-4dcf-a38e-9aa4a4e9f585"
      },
      "execution_count": 11,
      "outputs": [
        {
          "output_type": "stream",
          "name": "stdout",
          "text": [
            " * sqlite:///SQLiteMagic.db\n",
            "Done.\n"
          ]
        },
        {
          "output_type": "execute_result",
          "data": {
            "text/plain": [
              "[(38, 2),\n",
              " (40, 1),\n",
              " (43, 2),\n",
              " (44, 2),\n",
              " (45, 8),\n",
              " (46, 7),\n",
              " (47, 4),\n",
              " (48, 14),\n",
              " (49, 8),\n",
              " (50, 10),\n",
              " (51, 8),\n",
              " (52, 8),\n",
              " (53, 8),\n",
              " (54, 5),\n",
              " (55, 4),\n",
              " (56, 1),\n",
              " (57, 2),\n",
              " (58, 4),\n",
              " (60, 1)]"
            ],
            "text/html": [
              "<table>\n",
              "    <thead>\n",
              "        <tr>\n",
              "            <th>test_scores</th>\n",
              "            <th>Frequency</th>\n",
              "        </tr>\n",
              "    </thead>\n",
              "    <tbody>\n",
              "        <tr>\n",
              "            <td>38</td>\n",
              "            <td>2</td>\n",
              "        </tr>\n",
              "        <tr>\n",
              "            <td>40</td>\n",
              "            <td>1</td>\n",
              "        </tr>\n",
              "        <tr>\n",
              "            <td>43</td>\n",
              "            <td>2</td>\n",
              "        </tr>\n",
              "        <tr>\n",
              "            <td>44</td>\n",
              "            <td>2</td>\n",
              "        </tr>\n",
              "        <tr>\n",
              "            <td>45</td>\n",
              "            <td>8</td>\n",
              "        </tr>\n",
              "        <tr>\n",
              "            <td>46</td>\n",
              "            <td>7</td>\n",
              "        </tr>\n",
              "        <tr>\n",
              "            <td>47</td>\n",
              "            <td>4</td>\n",
              "        </tr>\n",
              "        <tr>\n",
              "            <td>48</td>\n",
              "            <td>14</td>\n",
              "        </tr>\n",
              "        <tr>\n",
              "            <td>49</td>\n",
              "            <td>8</td>\n",
              "        </tr>\n",
              "        <tr>\n",
              "            <td>50</td>\n",
              "            <td>10</td>\n",
              "        </tr>\n",
              "        <tr>\n",
              "            <td>51</td>\n",
              "            <td>8</td>\n",
              "        </tr>\n",
              "        <tr>\n",
              "            <td>52</td>\n",
              "            <td>8</td>\n",
              "        </tr>\n",
              "        <tr>\n",
              "            <td>53</td>\n",
              "            <td>8</td>\n",
              "        </tr>\n",
              "        <tr>\n",
              "            <td>54</td>\n",
              "            <td>5</td>\n",
              "        </tr>\n",
              "        <tr>\n",
              "            <td>55</td>\n",
              "            <td>4</td>\n",
              "        </tr>\n",
              "        <tr>\n",
              "            <td>56</td>\n",
              "            <td>1</td>\n",
              "        </tr>\n",
              "        <tr>\n",
              "            <td>57</td>\n",
              "            <td>2</td>\n",
              "        </tr>\n",
              "        <tr>\n",
              "            <td>58</td>\n",
              "            <td>4</td>\n",
              "        </tr>\n",
              "        <tr>\n",
              "            <td>60</td>\n",
              "            <td>1</td>\n",
              "        </tr>\n",
              "    </tbody>\n",
              "</table>"
            ]
          },
          "metadata": {},
          "execution_count": 11
        }
      ]
    },
    {
      "cell_type": "code",
      "source": [
        "from ast import increment_lineno\n",
        "%pip install seaborn\n",
        "%pip install matplotlib\n",
        "\n",
        "dataframe  = test_distribution.DataFrame()\n",
        "\n",
        "%matplotlib inline\n",
        "\n",
        "import seaborn\n",
        "\n",
        "seaborn.lineplot(x='test_scores', y='Frequency', data = dataframe)"
      ],
      "metadata": {
        "colab": {
          "base_uri": "https://localhost:8080/",
          "height": 918
        },
        "id": "lXg_MUDNE7h2",
        "outputId": "a40f631c-7509-41a9-9c43-0f03162b69b9"
      },
      "execution_count": 14,
      "outputs": [
        {
          "output_type": "stream",
          "name": "stdout",
          "text": [
            "Requirement already satisfied: seaborn in /usr/local/lib/python3.10/dist-packages (0.13.2)\n",
            "Requirement already satisfied: numpy!=1.24.0,>=1.20 in /usr/local/lib/python3.10/dist-packages (from seaborn) (1.26.4)\n",
            "Requirement already satisfied: pandas>=1.2 in /usr/local/lib/python3.10/dist-packages (from seaborn) (2.2.2)\n",
            "Requirement already satisfied: matplotlib!=3.6.1,>=3.4 in /usr/local/lib/python3.10/dist-packages (from seaborn) (3.8.0)\n",
            "Requirement already satisfied: contourpy>=1.0.1 in /usr/local/lib/python3.10/dist-packages (from matplotlib!=3.6.1,>=3.4->seaborn) (1.3.0)\n",
            "Requirement already satisfied: cycler>=0.10 in /usr/local/lib/python3.10/dist-packages (from matplotlib!=3.6.1,>=3.4->seaborn) (0.12.1)\n",
            "Requirement already satisfied: fonttools>=4.22.0 in /usr/local/lib/python3.10/dist-packages (from matplotlib!=3.6.1,>=3.4->seaborn) (4.54.1)\n",
            "Requirement already satisfied: kiwisolver>=1.0.1 in /usr/local/lib/python3.10/dist-packages (from matplotlib!=3.6.1,>=3.4->seaborn) (1.4.7)\n",
            "Requirement already satisfied: packaging>=20.0 in /usr/local/lib/python3.10/dist-packages (from matplotlib!=3.6.1,>=3.4->seaborn) (24.1)\n",
            "Requirement already satisfied: pillow>=6.2.0 in /usr/local/lib/python3.10/dist-packages (from matplotlib!=3.6.1,>=3.4->seaborn) (10.4.0)\n",
            "Requirement already satisfied: pyparsing>=2.3.1 in /usr/local/lib/python3.10/dist-packages (from matplotlib!=3.6.1,>=3.4->seaborn) (3.2.0)\n",
            "Requirement already satisfied: python-dateutil>=2.7 in /usr/local/lib/python3.10/dist-packages (from matplotlib!=3.6.1,>=3.4->seaborn) (2.8.2)\n",
            "Requirement already satisfied: pytz>=2020.1 in /usr/local/lib/python3.10/dist-packages (from pandas>=1.2->seaborn) (2024.2)\n",
            "Requirement already satisfied: tzdata>=2022.7 in /usr/local/lib/python3.10/dist-packages (from pandas>=1.2->seaborn) (2024.2)\n",
            "Requirement already satisfied: six>=1.5 in /usr/local/lib/python3.10/dist-packages (from python-dateutil>=2.7->matplotlib!=3.6.1,>=3.4->seaborn) (1.16.0)\n",
            "Requirement already satisfied: matplotlib in /usr/local/lib/python3.10/dist-packages (3.8.0)\n",
            "Requirement already satisfied: contourpy>=1.0.1 in /usr/local/lib/python3.10/dist-packages (from matplotlib) (1.3.0)\n",
            "Requirement already satisfied: cycler>=0.10 in /usr/local/lib/python3.10/dist-packages (from matplotlib) (0.12.1)\n",
            "Requirement already satisfied: fonttools>=4.22.0 in /usr/local/lib/python3.10/dist-packages (from matplotlib) (4.54.1)\n",
            "Requirement already satisfied: kiwisolver>=1.0.1 in /usr/local/lib/python3.10/dist-packages (from matplotlib) (1.4.7)\n",
            "Requirement already satisfied: numpy<2,>=1.21 in /usr/local/lib/python3.10/dist-packages (from matplotlib) (1.26.4)\n",
            "Requirement already satisfied: packaging>=20.0 in /usr/local/lib/python3.10/dist-packages (from matplotlib) (24.1)\n",
            "Requirement already satisfied: pillow>=6.2.0 in /usr/local/lib/python3.10/dist-packages (from matplotlib) (10.4.0)\n",
            "Requirement already satisfied: pyparsing>=2.3.1 in /usr/local/lib/python3.10/dist-packages (from matplotlib) (3.2.0)\n",
            "Requirement already satisfied: python-dateutil>=2.7 in /usr/local/lib/python3.10/dist-packages (from matplotlib) (2.8.2)\n",
            "Requirement already satisfied: six>=1.5 in /usr/local/lib/python3.10/dist-packages (from python-dateutil>=2.7->matplotlib) (1.16.0)\n"
          ]
        },
        {
          "output_type": "execute_result",
          "data": {
            "text/plain": [
              "<Axes: xlabel='test_scores', ylabel='Frequency'>"
            ]
          },
          "metadata": {},
          "execution_count": 14
        },
        {
          "output_type": "display_data",
          "data": {
            "text/plain": [
              "<Figure size 640x480 with 1 Axes>"
            ],
            "image/png": "[encoded data removed]"
          },
          "metadata": {}
        }
      ]
    },
    {
      "cell_type": "code",
      "source": [
        "%%sql\n",
        "\n",
        "-- Feel free to experiment with the data set provided in this notebook for practice:\n",
        "SELECT country, first_name, last_name, test_score FROM INTERNATIONAL_STUDENT_TEST_SCORES;"
      ],
      "metadata": {
        "colab": {
          "base_uri": "https://localhost:8080/"
        },
        "id": "x7Jc2tU-IGhl",
        "outputId": "f07aedbb-b6f7-413a-b952-1a1171d45c8c"
      },
      "execution_count": 15,
      "outputs": [
        {
          "output_type": "stream",
          "name": "stdout",
          "text": [
            " * sqlite:///SQLiteMagic.db\n",
            "(sqlite3.OperationalError) no such table: INTERNATIONAL_STUDENT_TEST_SCORES\n",
            "[SQL: -- Feel free to experiment with the data set provided in this notebook for practice:\n",
            "SELECT country, first_name, last_name, test_score FROM INTERNATIONAL_STUDENT_TEST_SCORES;]\n",
            "(Background on this error at: https://sqlalche.me/e/20/e3q8)\n"
          ]
        }
      ]
    },
    {
      "cell_type": "code",
      "source": [],
      "metadata": {
        "id": "yyYzhKHhLDiW"
      },
      "execution_count": null,
      "outputs": []
    }
  ]
}